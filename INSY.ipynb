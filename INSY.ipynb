{
  "nbformat": 4,
  "nbformat_minor": 0,
  "metadata": {
    "colab": {
      "provenance": [],
      "authorship_tag": "ABX9TyMP8deyBxvubYgmtaXOCFJI",
      "include_colab_link": true
    },
    "kernelspec": {
      "name": "python3",
      "display_name": "Python 3"
    },
    "language_info": {
      "name": "python"
    }
  },
  "cells": [
    {
      "cell_type": "markdown",
      "metadata": {
        "id": "view-in-github",
        "colab_type": "text"
      },
      "source": [
        "<a href=\"https://colab.research.google.com/github/nullonspeed/18undso/blob/master/INSY.ipynb\" target=\"_parent\"><img src=\"https://colab.research.google.com/assets/colab-badge.svg\" alt=\"Open In Colab\"/></a>"
      ]
    },
    {
      "cell_type": "code",
      "source": [
        "!pip install pyspark\n",
        "\n"
      ],
      "metadata": {
        "colab": {
          "base_uri": "https://localhost:8080/"
        },
        "id": "paeiGfkoXWpM",
        "outputId": "6f0f6adc-3302-452b-d515-5e0fb46d8f51"
      },
      "execution_count": 1,
      "outputs": [
        {
          "output_type": "stream",
          "name": "stdout",
          "text": [
            "Collecting pyspark\n",
            "  Downloading pyspark-3.5.1.tar.gz (317.0 MB)\n",
            "\u001b[2K     \u001b[90m━━━━━━━━━━━━━━━━━━━━━━━━━━━━━━━━━━━━━━━━\u001b[0m \u001b[32m317.0/317.0 MB\u001b[0m \u001b[31m3.0 MB/s\u001b[0m eta \u001b[36m0:00:00\u001b[0m\n",
            "\u001b[?25h  Preparing metadata (setup.py) ... \u001b[?25l\u001b[?25hdone\n",
            "Requirement already satisfied: py4j==0.10.9.7 in /usr/local/lib/python3.10/dist-packages (from pyspark) (0.10.9.7)\n",
            "Building wheels for collected packages: pyspark\n",
            "  Building wheel for pyspark (setup.py) ... \u001b[?25l\u001b[?25hdone\n",
            "  Created wheel for pyspark: filename=pyspark-3.5.1-py2.py3-none-any.whl size=317488491 sha256=35f519de156b79983e36b118244a7dff50de0cf30f3edf09ea49c37cca6fcac4\n",
            "  Stored in directory: /root/.cache/pip/wheels/80/1d/60/2c256ed38dddce2fdd93be545214a63e02fbd8d74fb0b7f3a6\n",
            "Successfully built pyspark\n",
            "Installing collected packages: pyspark\n",
            "Successfully installed pyspark-3.5.1\n"
          ]
        }
      ]
    },
    {
      "cell_type": "code",
      "source": [
        "import pyspark.sql\n",
        "from google.colab import drive\n",
        "drive.mount('/content/drive')"
      ],
      "metadata": {
        "colab": {
          "base_uri": "https://localhost:8080/"
        },
        "id": "NM5wmbZFXXC1",
        "outputId": "03fde698-12cb-43b3-c47f-7c59cb0f782d"
      },
      "execution_count": 2,
      "outputs": [
        {
          "output_type": "stream",
          "name": "stdout",
          "text": [
            "Mounted at /content/drive\n"
          ]
        }
      ]
    },
    {
      "cell_type": "code",
      "source": [
        "import matplotlib.pyplot as plt\n",
        "import numpy as np"
      ],
      "metadata": {
        "id": "rO8htJRNX9dY"
      },
      "execution_count": 11,
      "outputs": []
    },
    {
      "cell_type": "code",
      "execution_count": 13,
      "metadata": {
        "id": "9opQKIvMCis4",
        "colab": {
          "base_uri": "https://localhost:8080/"
        },
        "outputId": "411e2e60-4d66-4342-b8e1-0a05251c9f23"
      },
      "outputs": [
        {
          "output_type": "stream",
          "name": "stdout",
          "text": [
            "+---------+-------------+--------------+------------+-----------+------------------+-----------------+-------------+-------------+--------------+-------------+-----------+------------+-------+-----------+----------------+----------------+----------------+----------------+----------+--------------------+-----+----------+--------------+------------+----------+-------------+------+-----+--------+----------+--------------------+----------------+--------------------+----------+--------+---------------+-------------+-------------+-----------------+-----------------+-----------+-----------+--------------+--------------+--------------+--------------+--------------+--------------+--------------+--------------+---------------+----------------+----------------+--------------------+--------------------+---------------+---------------+-------------------+-------------------+-----------+-----------+-------------+-------------+------------+------------+\n",
            "|Record ID|Incident Year|Incident Month|Incident Day|Operator ID|          Operator|         Aircraft|Aircraft Type|Aircraft Make|Aircraft Model|Aircraft Mass|Engine Make|Engine Model|Engines|Engine Type|Engine1 Position|Engine2 Position|Engine3 Position|Engine4 Position|Airport ID|             Airport|State|FAA Region|Warning Issued|Flight Phase|Visibility|Precipitation|Height|Speed|Distance|Species ID|        Species Name|Species Quantity|       Flight Impact|Fatalities|Injuries|Aircraft Damage|Radome Strike|Radome Damage|Windshield Strike|Windshield Damage|Nose Strike|Nose Damage|Engine1 Strike|Engine1 Damage|Engine2 Strike|Engine2 Damage|Engine3 Strike|Engine3 Damage|Engine4 Strike|Engine4 Damage|Engine Ingested|Propeller Strike|Propeller Damage|Wing or Rotor Strike|Wing or Rotor Damage|Fuselage Strike|Fuselage Damage|Landing Gear Strike|Landing Gear Damage|Tail Strike|Tail Damage|Lights Strike|Lights Damage|Other Strike|Other Damage|\n",
            "+---------+-------------+--------------+------------+-----------+------------------+-----------------+-------------+-------------+--------------+-------------+-----------+------------+-------+-----------+----------------+----------------+----------------+----------------+----------+--------------------+-----+----------+--------------+------------+----------+-------------+------+-----+--------+----------+--------------------+----------------+--------------------+----------+--------+---------------+-------------+-------------+-----------------+-----------------+-----------+-----------+--------------+--------------+--------------+--------------+--------------+--------------+--------------+--------------+---------------+----------------+----------------+--------------------+--------------------+---------------+---------------+-------------------+-------------------+-----------+-----------+-------------+-------------+------------+------------+\n",
            "|   127128|         1990|             1|           1|        DAL|   DELTA AIR LINES|        B-757-200|            A|          148|            26|            4|         34|          40|      2|          D|               1|               1|            NULL|            NULL|      KCVG|CINCINNATI/NORTHE...|   KY|       ASO|          NULL|       CLIMB|      NULL|         NULL|  NULL| NULL|    NULL|       NE1|                GULL|               1|                NULL|      NULL|    NULL|              1|            1|            1|                0|                0|          0|          0|             0|             0|             0|             0|             0|             0|             0|             0|              0|               0|               0|                   0|                   0|              0|              0|                  0|                  0|          1|          1|            0|            0|           0|           0|\n",
            "|   129779|         1990|             1|           1|        HAL|      HAWAIIAN AIR|             DC-9|            A|          583|            90|            4|         34|          10|      2|          D|               5|               5|            NULL|            NULL|      PHLI|          LIHUE ARPT|   HI|       AWP|          NULL| TAKEOFF RUN|      NULL|         NULL|     0| NULL|       0|     ZZ201|       HOUSE SPARROW|               1|                NULL|      NULL|    NULL|              0|            0|            0|                0|                0|          0|          0|             0|             0|             0|             0|             0|             0|             0|             0|              0|               0|               0|                   0|                   0|              0|              0|                  0|                  0|          0|          0|            0|            0|           1|           0|\n",
            "|   129780|         1990|             1|           2|        UNK|           UNKNOWN|          UNKNOWN|         NULL|         NULL|          NULL|         NULL|       NULL|        NULL|   NULL|       NULL|            NULL|            NULL|            NULL|            NULL|      PHLI|          LIHUE ARPT|   HI|       AWP|          NULL|        NULL|      NULL|         NULL|  NULL| NULL|       0|     R1101|            BARN OWL|               1|                NULL|      NULL|    NULL|              0|            0|            0|                0|                0|          0|          0|             0|             0|             0|             0|             0|             0|             0|             0|              0|               0|               0|                   0|                   0|              0|              0|                  0|                  0|          0|          0|            0|            0|           0|           0|\n",
            "|     2258|         1990|             1|           3|        MIL|          MILITARY|            A-10A|            A|          345|          NULL|            3|         22|        NULL|      2|          D|            NULL|            NULL|            NULL|            NULL|      KMYR|   MYRTLE BEACH INTL|   SC|       ASO|          NULL|    APPROACH|       DAY|         NULL|   200|  138|    NULL|     UNKBM| UNKNOWN MEDIUM BIRD|               1|                NULL|      NULL|    NULL|              0|            0|            0|                0|                0|          0|          0|             0|             0|             0|             0|             0|             0|             0|             0|              0|               0|               0|                   1|                   0|              0|              0|                  0|                  0|          0|          0|            0|            0|           0|           0|\n",
            "|     2257|         1990|             1|           3|        MIL|          MILITARY|             F-16|            A|          561|          NULL|         NULL|       NULL|        NULL|   NULL|       NULL|            NULL|            NULL|            NULL|            NULL|      KJAX|   JACKSONVILLE INTL|   FL|       ASO|          NULL|       CLIMB|       DAY|         NULL|   100|  200|    NULL|        ZX|               FINCH|               1|                NULL|      NULL|    NULL|              0|            0|            0|                1|                0|          0|          0|             0|             0|             0|             0|             0|             0|             0|             0|              0|               0|               0|                   0|                   0|              0|              0|                  0|                  0|          0|          0|            0|            0|           0|           0|\n",
            "|   129734|         1990|             1|           4|        HAL|      HAWAIIAN AIR|             DC-9|            A|          583|            90|            4|         34|          10|      2|          D|               5|               5|            NULL|            NULL|      PHLI|          LIHUE ARPT|   HI|       AWP|          NULL|LANDING ROLL|      NULL|         NULL|     0| NULL|       0|       ZY1|              MUNIAS|               1|                NULL|      NULL|    NULL|              0|            0|            0|                0|                0|          0|          0|             0|             0|             0|             0|             0|             0|             0|             0|              0|               0|               0|                   0|                   0|              0|              0|                  0|                  0|          0|          0|            0|            0|           1|           0|\n",
            "|   129735|         1990|             1|           5|        UNK|           UNKNOWN|          UNKNOWN|         NULL|         NULL|          NULL|         NULL|       NULL|        NULL|   NULL|       NULL|            NULL|            NULL|            NULL|            NULL|      PHLI|          LIHUE ARPT|   HI|       AWP|          NULL|        NULL|      NULL|         NULL|  NULL| NULL|       0|     N5122|PACIFIC GOLDEN-PL...|               1|                NULL|      NULL|    NULL|              0|            0|            0|                0|                0|          0|          0|             0|             0|             0|             0|             0|             0|             0|             0|              0|               0|               0|                   0|                   0|              0|              0|                  0|                  0|          0|          0|            0|            0|           0|           0|\n",
            "|   129736|         1990|             1|           5|        UNK|           UNKNOWN|          UNKNOWN|         NULL|         NULL|          NULL|         NULL|       NULL|        NULL|   NULL|       NULL|            NULL|            NULL|            NULL|            NULL|      PHLI|          LIHUE ARPT|   HI|       AWP|          NULL|        NULL|      NULL|         NULL|  NULL| NULL|       0|       ZY1|              MUNIAS|               1|                NULL|      NULL|    NULL|              0|            0|            0|                0|                0|          0|          0|             0|             0|             0|             0|             0|             0|             0|             0|              0|               0|               0|                   0|                   0|              0|              0|                  0|                  0|          0|          0|            0|            0|           0|           0|\n",
            "|   129737|         1990|             1|           6|        UNK|           UNKNOWN|          UNKNOWN|         NULL|         NULL|          NULL|         NULL|       NULL|        NULL|   NULL|       NULL|            NULL|            NULL|            NULL|            NULL|      PHLI|          LIHUE ARPT|   HI|       AWP|          NULL|        NULL|      NULL|         NULL|  NULL| NULL|       0|       ZY1|              MUNIAS|               1|                NULL|      NULL|    NULL|              0|            0|            0|                0|                0|          0|          0|             0|             0|             0|             0|             0|             0|             0|             0|              0|               0|               0|                   0|                   0|              0|              0|                  0|                  0|          0|          0|            0|            0|           0|           0|\n",
            "|   127848|         1990|             1|           7|        EME|     METRO EXPRESS|      DHC8 DASH 8|            A|          303|            10|            3|         31|          10|      2|          C|               4|               4|            NULL|            NULL|      ZZZZ|             UNKNOWN| NULL|      NULL|          NULL|    EN ROUTE|      NULL|         NULL|  NULL| NULL|    NULL|     UNKBM| UNKNOWN MEDIUM BIRD|               1|                NULL|      NULL|    NULL|              1|            0|            0|                1|                1|          0|          0|             0|             0|             0|             0|             0|             0|             0|             0|              0|               0|               0|                   0|                   0|              0|              0|                  0|                  0|          0|          0|            0|            0|           0|           0|\n",
            "|   107155|         1990|             1|           8|        USA|       1US AIRWAYS|        B-737-200|            A|          148|            13|            4|         34|          10|      2|          D|               1|               1|            NULL|            NULL|      KMCO|        ORLANDO INTL|   FL|       ASO|             N|    APPROACH|       DAY|         NONE|    60|  150|    NULL|       NE1|                GULL|          02.Okt|                NULL|      NULL|    NULL|              0|            0|            0|                0|                0|          0|          0|             0|             0|             0|             0|             0|             0|             0|             0|              0|               0|               0|                   0|                   0|              0|              0|                  0|                  0|          0|          0|            0|            0|           0|           0|\n",
            "|   129738|         1990|             1|           8|        UNK|           UNKNOWN|          UNKNOWN|         NULL|         NULL|          NULL|         NULL|       NULL|        NULL|   NULL|       NULL|            NULL|            NULL|            NULL|            NULL|      PHLI|          LIHUE ARPT|   HI|       AWP|          NULL|        NULL|      NULL|         NULL|  NULL| NULL|       0|     O2211|        SPOTTED DOVE|               1|                NULL|      NULL|    NULL|              0|            0|            0|                0|                0|          0|          0|             0|             0|             0|             0|             0|             0|             0|             0|              0|               0|               0|                   0|                   0|              0|              0|                  0|                  0|          0|          0|            0|            0|           0|           0|\n",
            "|   113914|         1990|             1|          11|        BUS|          BUSINESS|HAWKER-SDLY HS125|            A|          443|            30|            3|       NULL|        NULL|      2|          B|               5|               5|            NULL|            NULL|      KJWN|    JOHN C TUNE ARPT|   TN|       ASO|          NULL| TAKEOFF RUN|     NIGHT|         NULL|     0|  100|       0|      1G11|   WHITE-TAILED DEER|          02.Okt|PRECAUTIONARY LAN...|      NULL|    NULL|              1|            0|            0|                0|                0|          0|          0|             1|             1|             0|             0|             0|             0|             0|             0|              1|               0|               0|                   0|                   0|              0|              0|                  0|                  0|          0|          0|            0|            0|           0|           0|\n",
            "|     2259|         1990|             1|          11|        MIL|          MILITARY|             F-16|            A|          561|          NULL|         NULL|       NULL|        NULL|   NULL|       NULL|            NULL|            NULL|            NULL|            NULL|      KFSM|FORT SMITH REGION...|   AR|       ASW|          NULL|       CLIMB|       DAY|         NULL|  1400|  200|    NULL|     YH004|         HORNED LARK|               1|                NULL|      NULL|    NULL|              0|            0|            0|                0|                0|          0|          0|             1|             0|             0|             0|             0|             0|             0|             0|              1|               0|               0|                   0|                   0|              0|              0|                  0|                  0|          0|          0|            0|            0|           0|           0|\n",
            "|   102248|         1990|             1|          11|        SWA|SOUTHWEST AIRLINES|        B-737-300|            A|          148|            24|            4|         10|           1|      2|          D|               1|               1|            NULL|            NULL|      KMSY|LOUIE ARMSTRONG N...|   LA|       ASW|             Y| TAKEOFF RUN|       DAY|         NULL|     0|  140|       0|     O2111|         ROCK PIGEON|          02.Okt|PRECAUTIONARY LAN...|      NULL|    NULL|              1|            0|            0|                0|                0|          0|          0|             1|             1|             0|             0|             0|             0|             0|             0|              0|               0|               0|                   0|                   0|              0|              0|                  0|                  0|          0|          0|            0|            0|           0|           0|\n",
            "|   129739|         1990|             1|          12|        HAL|      HAWAIIAN AIR|             DC-9|            A|          583|            90|            4|         34|          10|      2|          D|               5|               5|            NULL|            NULL|      PHLI|          LIHUE ARPT|   HI|       AWP|          NULL|LANDING ROLL|      NULL|         NULL|     0| NULL|       0|       ZY1|              MUNIAS|               1|                NULL|      NULL|    NULL|              0|            0|            0|                0|                0|          0|          0|             0|             0|             0|             0|             0|             0|             0|             0|              0|               0|               0|                   0|                   0|              0|              0|                  0|                  0|          0|          0|            0|            0|           1|           0|\n",
            "|     2260|         1990|             1|          13|        MIL|          MILITARY|              E-6|            A|          148|          NULL|         NULL|       NULL|        NULL|   NULL|       NULL|            NULL|            NULL|            NULL|            NULL|      PHNL|  HONOLULU INTL ARPT|   HI|       AWP|          NULL|LANDING ROLL|      NULL|         NULL|     0|  160|       0|     UNKBM| UNKNOWN MEDIUM BIRD|          02.Okt|                NULL|      NULL|    NULL|              0|            0|            0|                1|                0|          0|          0|             0|             0|             0|             0|             0|             0|             0|             0|              0|               0|               0|                   1|                   0|              0|              0|                  0|                  0|          0|          0|            0|            0|           0|           0|\n",
            "|     1604|         1990|             1|          15|        MIL|          MILITARY|             F-16|            A|          561|          NULL|         NULL|       NULL|        NULL|   NULL|       NULL|            NULL|            NULL|            NULL|            NULL|      KFSM|FORT SMITH REGION...|   AR|       ASW|          NULL|    APPROACH|       DAY|         NULL|  1500|  180|    NULL|     YH004|         HORNED LARK|               1|                NULL|      NULL|    NULL|              0|            1|            0|                0|                0|          1|          0|             0|             0|             0|             0|             0|             0|             0|             0|              1|               0|               0|                   0|                   0|              0|              0|                  0|                  0|          0|          0|            0|            0|           0|           0|\n",
            "|     1605|         1990|             1|          18|        MIL|          MILITARY|           C-141B|            A|          561|          NULL|         NULL|       NULL|        NULL|   NULL|       NULL|            NULL|            NULL|            NULL|            NULL|      KSBD|SAN BERNARDINO IN...|   CA|       AWP|          NULL|       CLIMB|       DAY|         NULL|    10|  140|    NULL|     UNKBM| UNKNOWN MEDIUM BIRD|               1|                NULL|      NULL|    NULL|              0|            1|            0|                0|                0|          1|          0|             0|             0|             0|             0|             0|             0|             0|             0|              0|               0|               0|                   0|                   0|              0|              0|                  0|                  0|          0|          0|            0|            0|           0|           0|\n",
            "|   127472|         1990|             1|          19|        UNK|           UNKNOWN|            PA-32|            A|          729|            26|            1|          7|          31|      1|          A|               7|            NULL|            NULL|            NULL|      ZZZZ|             UNKNOWN| NULL|      NULL|          NULL|    APPROACH|     NIGHT|         NULL|  NULL| NULL|    NULL|     UNKBM| UNKNOWN MEDIUM BIRD|               1|               OTHER|      NULL|    NULL|              1|            0|            0|                0|                0|          0|          0|             0|             0|             0|             0|             0|             0|             0|             0|              0|               0|               0|                   0|                   0|              0|              0|                  0|                  0|          1|          1|            0|            0|           0|           0|\n",
            "+---------+-------------+--------------+------------+-----------+------------------+-----------------+-------------+-------------+--------------+-------------+-----------+------------+-------+-----------+----------------+----------------+----------------+----------------+----------+--------------------+-----+----------+--------------+------------+----------+-------------+------+-----+--------+----------+--------------------+----------------+--------------------+----------+--------+---------------+-------------+-------------+-----------------+-----------------+-----------+-----------+--------------+--------------+--------------+--------------+--------------+--------------+--------------+--------------+---------------+----------------+----------------+--------------------+--------------------+---------------+---------------+-------------------+-------------------+-----------+-----------+-------------+-------------+------------+------------+\n",
            "only showing top 20 rows\n",
            "\n"
          ]
        }
      ],
      "source": [
        "spark = pyspark.sql.SparkSession.builder.master(\"local\").appName(\"main\").config('spark.ui.port','4050').getOrCreate()\n",
        "\n",
        "filepath =\"/content/drive/MyDrive/database.csv\"\n",
        "\n",
        "\n",
        "data = spark.read.option(\"delimiter\",\";\").csv(filepath, header=True)\n",
        "data.toPandas()\n",
        "data.show()\n",
        "spark.stop()\n"
      ]
    }
  ]
}